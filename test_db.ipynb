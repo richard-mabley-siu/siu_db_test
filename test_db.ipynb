{
 "cells": [
  {
   "cell_type": "code",
   "execution_count": null,
   "metadata": {},
   "outputs": [],
   "source": [
    "import db\n",
    "import os\n",
    "import pandas as pd"
   ]
  },
  {
   "cell_type": "code",
   "execution_count": null,
   "metadata": {},
   "outputs": [],
   "source": [
    "host = 'patch-db.siu.edu'\n",
    "service = 'PCH'\n",
    "port = 1541\n",
    "user = input(\"Enter Username\")\n",
    "pw = input(\"Enter Pass\")\n",
    "# or use an environmental variable...\n",
    "# pw = os.getenv('oracle_pw')"
   ]
  },
  {
   "cell_type": "code",
   "execution_count": null,
   "metadata": {},
   "outputs": [],
   "source": [
    "engine = db.connect_oracle(host_name=host, service_name = service, username= user, password=pw, port=port)"
   ]
  },
  {
   "cell_type": "code",
   "execution_count": null,
   "metadata": {},
   "outputs": [],
   "source": [
    "query = 'SELECT * FROM APPS.fnd_user FETCH FIRST 10 ROWS ONLY'\n",
    "#test query\n",
    "test_df = pd.read_sql_query(query, engine)\n",
    "\n",
    "test_df\n",
    "#print(test_df)"
   ]
  }
 ],
 "metadata": {
  "kernelspec": {
   "display_name": ".venv",
   "language": "python",
   "name": "python3"
  },
  "language_info": {
   "codemirror_mode": {
    "name": "ipython",
    "version": 3
   },
   "file_extension": ".py",
   "mimetype": "text/x-python",
   "name": "python",
   "nbconvert_exporter": "python",
   "pygments_lexer": "ipython3",
   "version": "3.13.0"
  }
 },
 "nbformat": 4,
 "nbformat_minor": 2
}
